{
 "cells": [
  {
   "cell_type": "markdown",
   "metadata": {},
   "source": [
    "# Creating a csv file of Finger Lakes Region Wineries scraped from the web\n",
    "content grabbed from www.americanwineryguide.com"
   ]
  },
  {
   "cell_type": "code",
   "execution_count": null,
   "metadata": {},
   "outputs": [],
   "source": [
    "import requests\n",
    "from bs4 import BeautifulSoup\n",
    "import csv"
   ]
  },
  {
   "cell_type": "code",
   "execution_count": 229,
   "metadata": {},
   "outputs": [],
   "source": [
    "result = requests.get(\"http://www.americanwineryguide.com/regions/wineries_list/finger-lakes-ava/\")"
   ]
  },
  {
   "cell_type": "code",
   "execution_count": 230,
   "metadata": {},
   "outputs": [],
   "source": [
    "src = result.content\n",
    "soup = BeautifulSoup(src,\"lxml\")"
   ]
  },
  {
   "cell_type": "code",
   "execution_count": 231,
   "metadata": {},
   "outputs": [],
   "source": [
    "#initialize some lists\n",
    "urls = []\n",
    "winery_list_urls = []\n",
    "phone_p = []"
   ]
  },
  {
   "cell_type": "markdown",
   "metadata": {},
   "source": [
    "#### the source website has everything referenced from one page with a bunch of links in html lists; the following creates a list of all the sub-links for each winery listed"
   ]
  },
  {
   "cell_type": "code",
   "execution_count": 232,
   "metadata": {},
   "outputs": [],
   "source": [
    "for wineries in soup.find_all(\"li\"):\n",
    "    a_tag = wineries.find('a')\n",
    "    urls.append(a_tag.attrs['href'])"
   ]
  },
  {
   "cell_type": "markdown",
   "metadata": {},
   "source": [
    "#### get rid of the links that don't refer to a winery"
   ]
  },
  {
   "cell_type": "code",
   "execution_count": 233,
   "metadata": {},
   "outputs": [],
   "source": [
    "for x in range(0, len(urls)):\n",
    "    url_path = urls[x].split(\"/\")\n",
    "    if len(url_path) > 1:\n",
    "        if url_path[1] == \"wineries\":\n",
    "            winery_list_urls.append(urls[x])\n",
    "    "
   ]
  },
  {
   "cell_type": "markdown",
   "metadata": {},
   "source": [
    "#### create our csv file and add column headings"
   ]
  },
  {
   "cell_type": "code",
   "execution_count": 234,
   "metadata": {},
   "outputs": [
    {
     "data": {
      "text/plain": [
       "96"
      ]
     },
     "execution_count": 234,
     "metadata": {},
     "output_type": "execute_result"
    }
   ],
   "source": [
    "csv_file = open('ny_wineries.csv', 'w')\n",
    "csv_writer = csv.writer(csv_file)\n",
    "csv_writer.writerow(['name', 'address_street', 'address_town','address_state', \n",
    "                     'address_zip', 'phone', 'email_url', 'winery_url', 'maps_url'])\n"
   ]
  },
  {
   "cell_type": "markdown",
   "metadata": {},
   "source": [
    "#### loop through the list of sub-urls to get the details for each winery write it out as a row in our csv file"
   ]
  },
  {
   "cell_type": "code",
   "execution_count": 235,
   "metadata": {},
   "outputs": [],
   "source": [
    "for url in winery_list_urls:\n",
    "    request_url = f\"http://www.americanwineryguide.com{url}\" \n",
    "    result = requests.get(request_url)\n",
    "    src = result.content\n",
    "    soup = BeautifulSoup(src,\"lxml\")\n",
    "    winery = soup.find('div', id=\"winery_detail_box1a\")\n",
    "\n",
    "    #Get the winery name (skip it if no name found)    \n",
    "    try:\n",
    "        name = winery.b.text.split('\\n')[0]\n",
    "    except Exception as e:\n",
    "        break\n",
    "    #Get the winery's website url\n",
    "    try:\n",
    "        winery_url = winery.find('a').attrs['href']\n",
    "    except Exception as e:\n",
    "        winery_url = None\n",
    "    #Get the Google Maps link for this winery\n",
    "    try:\n",
    "        maps_link = winery.select('a[href^=\"http://maps.google.com/\"]')\n",
    "        maps_link[0] = str(maps_link[0])\n",
    "        maps_url = maps_link[0].split('\\\"')[1]\n",
    "    except Exception as e:\n",
    "        maps_url = None\n",
    "    #Get the street address and break it out into seperate fields    \n",
    "    try:\n",
    "        address = maps_link[0].split('\\\"')[-1].split('\\n')\n",
    "        address_street = address[1]\n",
    "        address_town = address[-2].split(',')[0]\n",
    "        address_state = \"NY\"\n",
    "        address_zip = address[-2].split(' ')[-1]\n",
    "    except Exception as e:\n",
    "        address_street = None\n",
    "        address_town = None\n",
    "        address_state = \"NY\"\n",
    "        address_zip = None\n",
    "    #Get the winery's phone number    \n",
    "    try:\n",
    "        phone_p = str(winery.a.find_next('p'))\n",
    "        phone = phone_p.split(' ')[-1].split('<')[0]\n",
    "    except Exception as e:\n",
    "        phone = None\n",
    "    #Get the winery's email address\n",
    "    try:\n",
    "        email_link = winery.select('a[href^=\"mailto:\"]')\n",
    "        email_link[0] = str(email_link[0])\n",
    "        email_url = email_link[0].split('\\\"')[1]\n",
    "    except Exception as e:\n",
    "        email_url = None\n",
    "    #write all of the info for this winery to the csv file\n",
    "    csv_writer.writerow([name, address_street, address_town, address_state, \n",
    "                         address_zip, phone, email_url, winery_url, maps_url])\n",
    "csv_file.close()"
   ]
  },
  {
   "cell_type": "markdown",
   "metadata": {},
   "source": [
    "## Testing down below..."
   ]
  },
  {
   "cell_type": "code",
   "execution_count": 213,
   "metadata": {},
   "outputs": [],
   "source": [
    "url = \"/wineries/americana-vineyards-winery/\"\n",
    "request_url = f\"http://www.americanwineryguide.com{url}\" \n",
    "result = requests.get(request_url)\n",
    "src = result.content\n",
    "soup = BeautifulSoup(src,\"lxml\")\n",
    "winery = soup.find('div', id=\"winery_detail_box1a\")"
   ]
  },
  {
   "cell_type": "code",
   "execution_count": null,
   "metadata": {},
   "outputs": [],
   "source": []
  },
  {
   "cell_type": "code",
   "execution_count": 225,
   "metadata": {},
   "outputs": [],
   "source": []
  },
  {
   "cell_type": "code",
   "execution_count": 226,
   "metadata": {},
   "outputs": [],
   "source": []
  },
  {
   "cell_type": "code",
   "execution_count": null,
   "metadata": {},
   "outputs": [],
   "source": []
  },
  {
   "cell_type": "code",
   "execution_count": null,
   "metadata": {},
   "outputs": [],
   "source": []
  }
 ],
 "metadata": {
  "kernelspec": {
   "display_name": "Python 3",
   "language": "python",
   "name": "python3"
  },
  "language_info": {
   "codemirror_mode": {
    "name": "ipython",
    "version": 3
   },
   "file_extension": ".py",
   "mimetype": "text/x-python",
   "name": "python",
   "nbconvert_exporter": "python",
   "pygments_lexer": "ipython3",
   "version": "3.7.4"
  }
 },
 "nbformat": 4,
 "nbformat_minor": 2
}
